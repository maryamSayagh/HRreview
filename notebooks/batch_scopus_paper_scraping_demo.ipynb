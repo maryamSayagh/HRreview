{
 "cells": [
  {
   "cell_type": "markdown",
   "metadata": {},
   "source": [
    "# Scopus Paper Extraction Demo (Batch of 100)\n\nThis demo shows how to use this repository to create a Paper class, extract a batch of 100 papers from Scopus using a query from `papers_table.ipynb`.\n"
   ]
  },
  {
   "cell_type": "code",
   "metadata": {
    "ExecuteTime": {
     "end_time": "2025-08-12T17:25:25.818486Z",
     "start_time": "2025-08-12T17:25:24.536983Z"
    }
   },
   "source": [
    "# 1. Imports\n",
    "import sys, os\n",
    "import pandas as pd\n",
    "# Add Scripts dir for imports if running from notebooks/\n",
    "sys.path.append('../review/Scripts')\n",
    "from paper import Paper\n",
    "from extract_papers import get_extractor\n",
    "import extract_papers\n",
    "# Note: You need to install (and have credentials for) pybliometrics: !pip install pybliometrics\n",
    "import os"
   ],
   "outputs": [],
   "execution_count": 2
  },
  {
   "cell_type": "markdown",
   "metadata": {},
   "source": [
    "## 2. The Paper Class\nPaper is a simple class for holding metadata about a paper.\n"
   ]
  },
  {
   "cell_type": "code",
   "metadata": {
    "ExecuteTime": {
     "end_time": "2025-08-12T17:25:25.845536Z",
     "start_time": "2025-08-12T17:25:25.835569Z"
    }
   },
   "source": [
    "# Demo the Paper class\n",
    "demo_paper = Paper(\n    title=\"Human in the Loop: Demo Paper\",\n    authors=[\"A. Smith\", \"B. Lee\"],\n    publication_year=2021,\n    journal=\"Journal of Demo AI\",\n    doi=\"10.1111/demo.2021.001\",\n    abstract=\"This is an abstract.\",\n    source=\"DemoSource\",\n    keywords=[\"human in the loop\"]\n)\nprint(demo_paper)\nprint(demo_paper.to_dict())\n"
   ],
   "outputs": [
    {
     "name": "stdout",
     "output_type": "stream",
     "text": [
      "<Paper title='Human in the Loop: Demo Paper', year=2021, source=DemoSource>\n",
      "{'title': 'Human in the Loop: Demo Paper', 'authors': ['A. Smith', 'B. Lee'], 'publication_year': 2021, 'journal': 'Journal of Demo AI', 'doi': '10.1111/demo.2021.001', 'abstract': 'This is an abstract.', 'source': 'DemoSource', 'keywords': ['human in the loop']}\n"
     ]
    }
   ],
   "execution_count": 3
  },
  {
   "cell_type": "markdown",
   "metadata": {},
   "source": [
    "## 3. Run Scopus Extractor\nWe send the query 'Human in the loop' taken from papers_table.ipynb's list of top topics.\n*You must have Scopus/pybliometrics configured.*\n"
   ]
  },
  {
   "metadata": {
    "ExecuteTime": {
     "end_time": "2025-08-12T17:35:10.320437Z",
     "start_time": "2025-08-12T17:35:09.852875Z"
    }
   },
   "cell_type": "code",
   "source": [
    "import pybliometrics\n",
    "pybliometrics.init()\n"
   ],
   "outputs": [
    {
     "ename": "Scopus401Error",
     "evalue": "The requestor is not authorized to access the requested view or fields of the resource",
     "output_type": "error",
     "traceback": [
      "\u001B[31m---------------------------------------------------------------------------\u001B[39m",
      "\u001B[31mScopus401Error\u001B[39m                            Traceback (most recent call last)",
      "\u001B[36mCell\u001B[39m\u001B[36m \u001B[39m\u001B[32mIn[8]\u001B[39m\u001B[32m, line 3\u001B[39m\n\u001B[32m      1\u001B[39m \u001B[38;5;28;01mimport\u001B[39;00m\u001B[38;5;250m \u001B[39m\u001B[34;01mpybliometrics\u001B[39;00m\n\u001B[32m      2\u001B[39m pybliometrics.init()\n\u001B[32m----> \u001B[39m\u001B[32m3\u001B[39m SerialTitle = \u001B[43mpybliometrics\u001B[49m\u001B[43m.\u001B[49m\u001B[43mscopus\u001B[49m\u001B[43m.\u001B[49m\u001B[43mSerialTitle\u001B[49m\u001B[43m(\u001B[49m\u001B[33;43m'\u001B[39;49m\u001B[33;43m2352-3409\u001B[39;49m\u001B[33;43m'\u001B[39;49m\u001B[43m)\u001B[49m\n\u001B[32m      4\u001B[39m SerialTitle\n",
      "\u001B[36mFile \u001B[39m\u001B[32m~\\AppData\\Local\\Packages\\PythonSoftwareFoundation.Python.3.12_qbz5n2kfra8p0\\LocalCache\\local-packages\\Python312\\site-packages\\pybliometrics\\scopus\\serial_title.py:242\u001B[39m, in \u001B[36mSerialTitle.__init__\u001B[39m\u001B[34m(self, issn, refresh, view, years, **kwds)\u001B[39m\n\u001B[32m    240\u001B[39m \u001B[38;5;28mself\u001B[39m._id = \u001B[38;5;28mstr\u001B[39m(issn)\n\u001B[32m    241\u001B[39m \u001B[38;5;28mself\u001B[39m._years = years\n\u001B[32m--> \u001B[39m\u001B[32m242\u001B[39m \u001B[43mRetrieval\u001B[49m\u001B[43m.\u001B[49m\u001B[34;43m__init__\u001B[39;49m\u001B[43m(\u001B[49m\u001B[38;5;28;43mself\u001B[39;49m\u001B[43m,\u001B[49m\u001B[43m \u001B[49m\u001B[43midentifier\u001B[49m\u001B[43m=\u001B[49m\u001B[38;5;28;43mself\u001B[39;49m\u001B[43m.\u001B[49m\u001B[43m_id\u001B[49m\u001B[43m,\u001B[49m\u001B[43m \u001B[49m\u001B[43mdate\u001B[49m\u001B[43m=\u001B[49m\u001B[43myears\u001B[49m\u001B[43m,\u001B[49m\u001B[43m \u001B[49m\u001B[43m*\u001B[49m\u001B[43m*\u001B[49m\u001B[43mkwds\u001B[49m\u001B[43m)\u001B[49m\n\u001B[32m    244\u001B[39m \u001B[38;5;66;03m# Parse json\u001B[39;00m\n\u001B[32m    245\u001B[39m \u001B[38;5;28mself\u001B[39m._json = \u001B[38;5;28mself\u001B[39m._json[\u001B[33m'\u001B[39m\u001B[33mserial-metadata-response\u001B[39m\u001B[33m'\u001B[39m]\n",
      "\u001B[36mFile \u001B[39m\u001B[32m~\\AppData\\Local\\Packages\\PythonSoftwareFoundation.Python.3.12_qbz5n2kfra8p0\\LocalCache\\local-packages\\Python312\\site-packages\\pybliometrics\\superclasses\\retrieval.py:51\u001B[39m, in \u001B[36mRetrieval.__init__\u001B[39m\u001B[34m(self, identifier, id_type, **kwds)\u001B[39m\n\u001B[32m     49\u001B[39m \u001B[38;5;66;03m# Parse file contents\u001B[39;00m\n\u001B[32m     50\u001B[39m params = {\u001B[33m'\u001B[39m\u001B[33mview\u001B[39m\u001B[33m'\u001B[39m: \u001B[38;5;28mself\u001B[39m._view, **kwds}\n\u001B[32m---> \u001B[39m\u001B[32m51\u001B[39m \u001B[43mBase\u001B[49m\u001B[43m.\u001B[49m\u001B[34;43m__init__\u001B[39;49m\u001B[43m(\u001B[49m\u001B[38;5;28;43mself\u001B[39;49m\u001B[43m,\u001B[49m\u001B[43m \u001B[49m\u001B[43mparams\u001B[49m\u001B[43m=\u001B[49m\u001B[43mparams\u001B[49m\u001B[43m,\u001B[49m\u001B[43m \u001B[49m\u001B[43murl\u001B[49m\u001B[43m=\u001B[49m\u001B[43murl\u001B[49m\u001B[43m)\u001B[49m\n",
      "\u001B[36mFile \u001B[39m\u001B[32m~\\AppData\\Local\\Packages\\PythonSoftwareFoundation.Python.3.12_qbz5n2kfra8p0\\LocalCache\\local-packages\\Python312\\site-packages\\pybliometrics\\superclasses\\base.py:69\u001B[39m, in \u001B[36mBase.__init__\u001B[39m\u001B[34m(self, params, url, download, verbose, **kwds)\u001B[39m\n\u001B[32m     67\u001B[39m         \u001B[38;5;28mself\u001B[39m._json = loads(fname.read_text())\n\u001B[32m     68\u001B[39m \u001B[38;5;28;01melse\u001B[39;00m:\n\u001B[32m---> \u001B[39m\u001B[32m69\u001B[39m     resp = \u001B[43mget_content\u001B[49m\u001B[43m(\u001B[49m\u001B[43murl\u001B[49m\u001B[43m,\u001B[49m\u001B[43m \u001B[49m\u001B[43mapi\u001B[49m\u001B[43m,\u001B[49m\u001B[43m \u001B[49m\u001B[43mparams\u001B[49m\u001B[43m,\u001B[49m\u001B[43m \u001B[49m\u001B[43m*\u001B[49m\u001B[43m*\u001B[49m\u001B[43mkwds\u001B[49m\u001B[43m)\u001B[49m\n\u001B[32m     70\u001B[39m     header = resp.headers\n\u001B[32m     72\u001B[39m     \u001B[38;5;28;01mif\u001B[39;00m ab_ref_retrieval:\n",
      "\u001B[36mFile \u001B[39m\u001B[32m~\\AppData\\Local\\Packages\\PythonSoftwareFoundation.Python.3.12_qbz5n2kfra8p0\\LocalCache\\local-packages\\Python312\\site-packages\\pybliometrics\\utils\\get_content.py:156\u001B[39m, in \u001B[36mget_content\u001B[39m\u001B[34m(url, api, params, **kwds)\u001B[39m\n\u001B[32m    154\u001B[39m         \u001B[38;5;28;01mexcept\u001B[39;00m:\n\u001B[32m    155\u001B[39m             reason = \u001B[33m\"\u001B[39m\u001B[33m\"\u001B[39m\n\u001B[32m--> \u001B[39m\u001B[32m156\u001B[39m     \u001B[38;5;28;01mraise\u001B[39;00m error_type(reason)\n\u001B[32m    157\u001B[39m \u001B[38;5;28;01mexcept\u001B[39;00m (JSONDecodeError, \u001B[38;5;167;01mKeyError\u001B[39;00m):\n\u001B[32m    158\u001B[39m     resp.raise_for_status()\n",
      "\u001B[31mScopus401Error\u001B[39m: The requestor is not authorized to access the requested view or fields of the resource"
     ]
    }
   ],
   "execution_count": 8
  },
  {
   "cell_type": "code",
   "metadata": {
    "ExecuteTime": {
     "end_time": "2025-08-12T17:37:15.627670Z",
     "start_time": "2025-08-12T17:37:15.561178Z"
    }
   },
   "source": [
    "\n",
    "query = 'Human in the loop'\n",
    "batch_size = 100\n",
    "provider = 'elsevier'\n",
    "api_key =None # None #Elsevier_API_KEY # If you use local config for pybliometrics, leave as None\n",
    "extractor = get_extractor(provider)\n",
    "papers = extractor.extract(query, api_key=api_key, batch_size=batch_size, max_batches=1)\n",
    "print(f'Extracted {len(papers)} papers')\n",
    "df = pd.DataFrame([p.to_dict() for p in papers])\n",
    "df.head()\n"
   ],
   "outputs": [
    {
     "ename": "NameError",
     "evalue": "name 'ElsevierClient' is not defined",
     "output_type": "error",
     "traceback": [
      "\u001B[31m---------------------------------------------------------------------------\u001B[39m",
      "\u001B[31mNameError\u001B[39m                                 Traceback (most recent call last)",
      "\u001B[36mCell\u001B[39m\u001B[36m \u001B[39m\u001B[32mIn[9]\u001B[39m\u001B[32m, line 6\u001B[39m\n\u001B[32m      4\u001B[39m api_key =\u001B[38;5;28;01mNone\u001B[39;00m \u001B[38;5;66;03m# None #Elsevier_API_KEY # If you use local config for pybliometrics, leave as None\u001B[39;00m\n\u001B[32m      5\u001B[39m extractor = get_extractor(provider)\n\u001B[32m----> \u001B[39m\u001B[32m6\u001B[39m papers = \u001B[43mextractor\u001B[49m\u001B[43m.\u001B[49m\u001B[43mextract\u001B[49m\u001B[43m(\u001B[49m\u001B[43mquery\u001B[49m\u001B[43m,\u001B[49m\u001B[43m \u001B[49m\u001B[43mapi_key\u001B[49m\u001B[43m=\u001B[49m\u001B[43mapi_key\u001B[49m\u001B[43m,\u001B[49m\u001B[43m \u001B[49m\u001B[43mbatch_size\u001B[49m\u001B[43m=\u001B[49m\u001B[43mbatch_size\u001B[49m\u001B[43m,\u001B[49m\u001B[43m \u001B[49m\u001B[43mmax_batches\u001B[49m\u001B[43m=\u001B[49m\u001B[32;43m1\u001B[39;49m\u001B[43m)\u001B[49m\n\u001B[32m      7\u001B[39m \u001B[38;5;28mprint\u001B[39m(\u001B[33mf\u001B[39m\u001B[33m'\u001B[39m\u001B[33mExtracted \u001B[39m\u001B[38;5;132;01m{\u001B[39;00m\u001B[38;5;28mlen\u001B[39m(papers)\u001B[38;5;132;01m}\u001B[39;00m\u001B[33m papers\u001B[39m\u001B[33m'\u001B[39m)\n\u001B[32m      8\u001B[39m df = pd.DataFrame([p.to_dict() \u001B[38;5;28;01mfor\u001B[39;00m p \u001B[38;5;129;01min\u001B[39;00m papers])\n",
      "\u001B[36mFile \u001B[39m\u001B[32m~\\PycharmProjects\\HRreview\\notebooks\\../review/Scripts\\extract_papers.py:118\u001B[39m, in \u001B[36mElsevierExtractor.extract\u001B[39m\u001B[34m(self, query, api_key, batch_size, max_batches)\u001B[39m\n\u001B[32m    116\u001B[39m \u001B[38;5;28;01mdef\u001B[39;00m\u001B[38;5;250m \u001B[39m\u001B[34mextract\u001B[39m(\u001B[38;5;28mself\u001B[39m, query: \u001B[38;5;28mstr\u001B[39m, api_key: \u001B[38;5;28mstr\u001B[39m, batch_size: \u001B[38;5;28mint\u001B[39m = \u001B[32m25\u001B[39m, max_batches: Optional[\u001B[38;5;28mint\u001B[39m] = \u001B[38;5;28;01mNone\u001B[39;00m) -> List[Paper]:\n\u001B[32m    117\u001B[39m     \u001B[38;5;66;03m# Replace this with your actual Elsevier API client logic\u001B[39;00m\n\u001B[32m--> \u001B[39m\u001B[32m118\u001B[39m     client = \u001B[43mElsevierClient\u001B[49m(api_key=api_key)\n\u001B[32m    119\u001B[39m     all_results = []\n\u001B[32m    120\u001B[39m     start = \u001B[32m0\u001B[39m\n",
      "\u001B[31mNameError\u001B[39m: name 'ElsevierClient' is not defined"
     ]
    }
   ],
   "execution_count": 9
  },
  {
   "metadata": {},
   "cell_type": "markdown",
   "source": ""
  },
  {
   "cell_type": "markdown",
   "metadata": {},
   "source": [
    "## 4. Next steps\nYou can proceed with scoring or classification from `papers_table.ipynb`!\n"
   ]
  }
 ],
 "metadata": {
  "kernelspec": {
   "display_name": "Python 3",
   "language": "python",
   "name": "python3"
  },
  "language_info": {
   "name": "python"
  }
 },
 "nbformat": 4,
 "nbformat_minor": 2
}
