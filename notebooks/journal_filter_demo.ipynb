{
 "cells": [
  {
   "cell_type": "markdown",
   "metadata": {},
   "source": [
    "# Journal Filter Demo\n",
    "\n",
    "This notebook demonstrates how to use the classification (dictionary) strategy in `journal_filter_gpt.py` to extract only relevant journals in Sociology, Psychology, Psychiatry, and Culture/Cross-Cultural Sciences from a Scopus-like list.\n"
   ]
  },
  {
   "cell_type": "code",
   "metadata": {
    "jupyter": {
     "is_executing": true
    },
    "ExecuteTime": {
     "start_time": "2025-08-07T17:58:39.525734Z"
    }
   },
   "source": [
    "from review.Scripts import journal_filter_gpt\n",
    "#from serpapi import GoogleSearch\n",
    "#from dotenv import load_dotenv\n",
    "import os, time, pandas as pd, re\n",
    "#load_dotenv()\n",
    "import pprint\n",
    "import requests\n",
    "import json\n",
    "from io import BytesIO\n",
    "import fitz  # PyMuPDF\n",
    "import pymupdf\n",
    "from google.colab import userdata\n",
    "from openai import OpenAI\n",
    "from more_itertools import chunked\n",
    "import numpy as np\n",
    "\n"
   ],
   "outputs": [],
   "execution_count": null
  },
  {
   "cell_type": "markdown",
   "metadata": {},
   "source": [
    "## Sample Data\n",
    "You should replace this dummy list with your real Scopus export.\n"
   ]
  },
  {
   "cell_type": "code",
   "metadata": {},
   "source": [
    "# Example: Minimal mock of journal data, replace with your data loading logic\n",
    "df = pd.DataFrame({\n",
    "    'Journal': [\n",
    "        'Journal of Cross-Cultural Psychology',\n",
    "        'American Journal of Sociology',\n",
    "        'Journal of Finance',\n",
    "        'Lancet Psychiatry',\n",
    "        'British Journal of Psychology',\n",
    "        'Plant Physiology',\n",
    "        'Annual Review of Anthropology',\n",
    "        'Child Development',\n",
    "        'Nature Neuroscience',\n",
    "        'Cultural Sociology'\n",
    "    ]\n",
    "})\n",
    "df\n"
   ],
   "execution_count": null,
   "outputs": []
  },
  {
   "cell_type": "markdown",
   "metadata": {},
   "source": [
    "## Define the Context Text for Filtering\n",
    "The filter will only keep journals if they are in sociology, psychology, psychiatry, or cultural/cross-cultural sciences (primary or secondary level).\n"
   ]
  },
  {
   "cell_type": "code",
   "metadata": {},
   "source": [
    "context_text = (\n",
    "    'Only keep journals if they are clearly in the disciplines of sociology, psychology, psychiatry, or culture/cross-cultural sciences. ' \n",
    "    'Journals from medicine, finance, neuroscience, biology, etc. should be excluded. ' \n",
    "    'Both primary and secondary subfields count.'\n",
    ")\n",
    "print(context_text)"
   ],
   "execution_count": null,
   "outputs": []
  },
  {
   "cell_type": "markdown",
   "metadata": {},
   "source": [
    "## Authenticate OpenAI\n"
   ]
  },
  {
   "cell_type": "code",
   "metadata": {},
   "source": [
    "# You must have your OPENAI_API_KEY set in environment or insert it here\n",
    "client = openai.OpenAI()  # uses api key from environment\n"
   ],
   "execution_count": null,
   "outputs": []
  },
  {
   "cell_type": "markdown",
   "metadata": {},
   "source": [
    "## Filter Journals using Dictionary-Classification Strategy\n",
    "This uses the `filter_journal_dataframe` with strategy='dict'.\n"
   ]
  },
  {
   "cell_type": "code",
   "metadata": {},
   "source": [
    "filtered_df = journal_filter_gpt.filter_journal_dataframe(\n",
    "    df,\n",
    "    client,\n",
    "    column_names=['Journal'],\n",
    "    context_text=context_text,\n",
    "    strategy='dict',\n",
    "    chunk_size=10   # Adjust if you have a larger list\n",
    ")\n",
    "filtered_df\n"
   ],
   "execution_count": null,
   "outputs": []
  }
 ],
 "metadata": {
  "kernelspec": {
   "display_name": "Python 3",
   "language": "python",
   "name": "python3"
  },
  "language_info": {
   "name": "python",
   "version": "3.10"
  }
 },
 "nbformat": 4,
 "nbformat_minor": 2
}
